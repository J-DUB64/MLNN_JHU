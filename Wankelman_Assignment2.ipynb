{
 "cells": [
  {
   "cell_type": "code",
   "execution_count": 2,
   "metadata": {},
   "outputs": [],
   "source": [
    "import numpy as np\n",
    "import pandas as pd\n",
    "import scipy as sp"
   ]
  },
  {
   "cell_type": "code",
   "execution_count": 3,
   "metadata": {},
   "outputs": [],
   "source": [
    "%matplotlib inline\n",
    "import matplotlib.pyplot as plt\n",
    "plt.style.use('ggplot')"
   ]
  },
  {
   "cell_type": "code",
   "execution_count": 4,
   "metadata": {},
   "outputs": [
    {
     "name": "stdout",
     "output_type": "stream",
     "text": [
      "Writing hw_data.csv\n"
     ]
    }
   ],
   "source": [
    "%%file hw_data.csv\n",
    "id,sex,weight,height\n",
    "1,M,190,77\n",
    "2,F,120,70\n",
    "3,F,110,68\n",
    "4,M,150,72\n",
    "5,O,120,66\n",
    "6,M,120,60\n",
    "7,F,140,70"
   ]
  },
  {
   "cell_type": "markdown",
   "metadata": {},
   "source": [
    "# Python"
   ]
  },
  {
   "cell_type": "markdown",
   "metadata": {},
   "source": [
    "## 1. Finish creating the following function that takes a list and returns the average value.\n",
    "\n",
    "Add each element in the list to `total` and return `total`\n",
    "\n",
    "### DO NOT use a library function nor `sum()`"
   ]
  },
  {
   "cell_type": "code",
   "execution_count": 6,
   "metadata": {},
   "outputs": [
    {
     "name": "stdout",
     "output_type": "stream",
     "text": [
      "0.125\n"
     ]
    }
   ],
   "source": [
    "def average(my_list):\n",
    "    total = 0\n",
    "    for item in my_list:\n",
    "        total += item\n",
    "        \n",
    "        if len(my_list) == 0:\n",
    "            return 0\n",
    "        return total / len(my_list)     \n",
    "\n",
    "\n",
    "result1 = average([1,2,1,4,3,2,5,9])\n",
    "print(result1)"
   ]
  },
  {
   "cell_type": "markdown",
   "metadata": {},
   "source": [
    "## 2. Using a Dictionary keep track of the count of numbers (or items) from a list"
   ]
  },
  {
   "cell_type": "code",
   "execution_count": 7,
   "metadata": {},
   "outputs": [
    {
     "name": "stdout",
     "output_type": "stream",
     "text": [
      "{1: 2, 2: 2, 4: 1, 3: 1, 5: 1, 9: 1}\n"
     ]
    }
   ],
   "source": [
    "def counts(my_list):\n",
    "    counts = dict()\n",
    "    for item in my_list:\n",
    "        if item in counts:\n",
    "            counts[item] += 1\n",
    "        else:\n",
    "            counts[item]= 1\n",
    "    \n",
    "    return counts\n",
    "\n",
    "result2 = counts([1,2,1,4,3,2,5,9])    \n",
    "print(result2)"
   ]
  },
  {
   "cell_type": "markdown",
   "metadata": {},
   "source": [
    "## 3.  Using the `counts()` function you created above and the `.split()` function, return a dictionary of most occuring words from the following paragraph. Bonus, remove punctuation from words."
   ]
  },
  {
   "cell_type": "code",
   "execution_count": 9,
   "metadata": {},
   "outputs": [
    {
     "name": "stdout",
     "output_type": "stream",
     "text": [
      "the: 34\n",
      "and: 17\n",
      "a: 15\n",
      "to: 15\n",
      "of: 9\n",
      "was: 8\n",
      "she: 7\n",
      "at: 7\n",
      "in: 7\n",
      "footman: 6\n",
      "he: 6\n",
      "door: 6\n",
      "for: 5\n",
      "out: 5\n",
      "his: 5\n",
      "alice: 5\n",
      "you: 5\n",
      "had: 4\n",
      "as: 4\n",
      "this: 4\n",
      "on: 4\n",
      "livery: 3\n",
      "him: 3\n",
      "because: 3\n",
      "by: 3\n",
      "it: 3\n",
      "large: 3\n",
      "that: 3\n",
      "all: 3\n",
      "their: 3\n",
      "into: 3\n",
      "up: 3\n",
      "said: 3\n",
      "i: 3\n",
      "might: 3\n",
      "or: 2\n",
      "two: 2\n",
      "looking: 2\n",
      "house: 2\n",
      "what: 2\n",
      "next: 2\n",
      "when: 2\n",
      "came: 2\n",
      "be: 2\n",
      "face: 2\n",
      "only: 2\n",
      "with: 2\n",
      "opened: 2\n",
      "eyes: 2\n",
      "both: 2\n",
      "over: 2\n",
      "very: 2\n",
      "little: 2\n",
      "wood: 2\n",
      "fishfootman: 2\n",
      "from: 2\n",
      "great: 2\n",
      "nearly: 2\n",
      "other: 2\n",
      "solemn: 2\n",
      "tone: 2\n",
      "duchess: 2\n",
      "an: 2\n",
      "invitation: 2\n",
      "queen: 2\n",
      "play: 2\n",
      "croquet’: 2\n",
      "repeated: 2\n",
      "same: 2\n",
      "then: 2\n",
      "so: 2\n",
      "her: 2\n",
      "sky: 2\n",
      "went: 2\n",
      "no: 2\n",
      "knocking’: 2\n",
      "are: 2\n",
      "noise: 2\n",
      "inside: 2\n",
      "one: 2\n",
      "could: 2\n",
      "if: 2\n",
      "pieces: 2\n",
      "am: 2\n",
      "get: 2\n",
      "in’: 2\n",
      "head: 2\n",
      "minute: 1\n",
      "stood: 1\n",
      "wondering: 1\n",
      "do: 1\n",
      "suddenly: 1\n",
      "running: 1\n",
      "wood—she: 1\n",
      "considered: 1\n",
      "otherwise: 1\n",
      "judging: 1\n",
      "would: 1\n",
      "have: 1\n",
      "called: 1\n",
      "fish—and: 1\n",
      "rapped: 1\n",
      "loudly: 1\n",
      "knuckles: 1\n",
      "another: 1\n",
      "round: 1\n",
      "like: 1\n",
      "frog: 1\n",
      "footmen: 1\n",
      "noticed: 1\n",
      "powdered: 1\n",
      "hair: 1\n",
      "curled: 1\n",
      "heads: 1\n",
      "felt: 1\n",
      "curious: 1\n",
      "know: 1\n",
      "about: 1\n",
      "crept: 1\n",
      "way: 1\n",
      "listen: 1\n",
      "began: 1\n",
      "producing: 1\n",
      "under: 1\n",
      "arm: 1\n",
      "letter: 1\n",
      "himself: 1\n",
      "handed: 1\n",
      "saying: 1\n",
      "‘for: 1\n",
      "frogfootman: 1\n",
      "changing: 1\n",
      "order: 1\n",
      "words: 1\n",
      "‘from: 1\n",
      "they: 1\n",
      "bowed: 1\n",
      "low: 1\n",
      "curls: 1\n",
      "got: 1\n",
      "entangled: 1\n",
      "together: 1\n",
      "laughed: 1\n",
      "much: 1\n",
      "run: 1\n",
      "back: 1\n",
      "fear: 1\n",
      "hearing: 1\n",
      "peeped: 1\n",
      "gone: 1\n",
      "sitting: 1\n",
      "ground: 1\n",
      "near: 1\n",
      "staring: 1\n",
      "stupidly: 1\n",
      "timidly: 1\n",
      "knocked: 1\n",
      "‘there’s: 1\n",
      "sort: 1\n",
      "use: 1\n",
      "‘and: 1\n",
      "reasons: 1\n",
      "first: 1\n",
      "i’m: 1\n",
      "side: 1\n",
      "secondly: 1\n",
      "they’re: 1\n",
      "making: 1\n",
      "such: 1\n",
      "possibly: 1\n",
      "hear: 1\n",
      "you’: 1\n",
      "certainly: 1\n",
      "there: 1\n",
      "most: 1\n",
      "extraordinary: 1\n",
      "going: 1\n",
      "within—a: 1\n",
      "constant: 1\n",
      "howling: 1\n",
      "sneezing: 1\n",
      "every: 1\n",
      "now: 1\n",
      "crash: 1\n",
      "dish: 1\n",
      "kettle: 1\n",
      "been: 1\n",
      "broken: 1\n",
      "‘please: 1\n",
      "then’: 1\n",
      "‘how: 1\n",
      "‘there: 1\n",
      "some: 1\n",
      "sense: 1\n",
      "your: 1\n",
      "without: 1\n",
      "attending: 1\n",
      "‘if: 1\n",
      "we: 1\n",
      "between: 1\n",
      "us: 1\n",
      "instance: 1\n",
      "were: 1\n",
      "knock: 1\n",
      "let: 1\n",
      "know’: 1\n",
      "time: 1\n",
      "speaking: 1\n",
      "thought: 1\n",
      "decidedly: 1\n",
      "uncivil: 1\n",
      "‘but: 1\n",
      "perhaps: 1\n",
      "can’t: 1\n",
      "help: 1\n",
      "it’: 1\n",
      "herself: 1\n",
      "‘his: 1\n",
      "top: 1\n",
      "but: 1\n",
      "any: 1\n",
      "rate: 1\n",
      "answer: 1\n",
      "questions—how: 1\n",
      "aloud: 1\n",
      "‘i: 1\n",
      "shall: 1\n",
      "sit: 1\n",
      "here’: 1\n",
      "remarked: 1\n",
      "‘till: 1\n",
      "tomorrow—’: 1\n",
      "moment: 1\n",
      "plate: 1\n",
      "skimming: 1\n",
      "straight: 1\n",
      "footman’s: 1\n",
      "just: 1\n",
      "grazed: 1\n",
      "nose: 1\n",
      "broke: 1\n",
      "against: 1\n",
      "trees: 1\n",
      "behind: 1\n"
     ]
    }
   ],
   "source": [
    "import string\n",
    "\n",
    "def counts(my_list):\n",
    "    word_counts = dict()\n",
    "    for item in my_list:\n",
    "        \n",
    "        cleaned_item = item.translate(str.maketrans('', '', string.punctuation)).lower()\n",
    "        if cleaned_item in word_counts:\n",
    "            word_counts[cleaned_item] += 1  \n",
    "        else:\n",
    "            word_counts[cleaned_item] = 1  \n",
    "    return word_counts\n",
    "\n",
    "\n",
    "paragraph_text = '''\n",
    "For a minute or two she stood looking at the house, and wondering what to do next, when suddenly a footman in livery came running out of the wood—(she considered him to be a footman because he was in livery: otherwise, judging by his face only, she would have called him a fish)—and rapped loudly at the door with his knuckles. It was opened by another footman in livery, with a round face, and large eyes like a frog; and both footmen, Alice noticed, had powdered hair that curled all over their heads. She felt very curious to know what it was all about, and crept a little way out of the wood to listen.\n",
    "The Fish-Footman began by producing from under his arm a great letter, nearly as large as himself, and this he handed over to the other, saying, in a solemn tone, ‘For the Duchess. An invitation from the Queen to play croquet.’ The Frog-Footman repeated, in the same solemn tone, only changing the order of the words a little, ‘From the Queen. An invitation for the Duchess to play croquet.’\n",
    "Then they both bowed low, and their curls got entangled together.\n",
    "Alice laughed so much at this, that she had to run back into the wood for fear of their hearing her; and when she next peeped out the Fish-Footman was gone, and the other was sitting on the ground near the door, staring stupidly up into the sky.\n",
    "Alice went timidly up to the door, and knocked.\n",
    "‘There’s no sort of use in knocking,’ said the Footman, ‘and that for two reasons. First, because I’m on the same side of the door as you are; secondly, because they’re making such a noise inside, no one could possibly hear you.’ And certainly there was a most extraordinary noise going on within—a constant howling and sneezing, and every now and then a great crash, as if a dish or kettle had been broken to pieces.\n",
    "‘Please, then,’ said Alice, ‘how am I to get in?’\n",
    "‘There might be some sense in your knocking,’ the Footman went on without attending to her, ‘if we had the door between us. For instance, if you were inside, you might knock, and I could let you out, you know.’ He was looking up into the sky all the time he was speaking, and this Alice thought decidedly uncivil. ‘But perhaps he can’t help it,’ she said to herself; ‘his eyes are so very nearly at the top of his head. But at any rate he might answer questions.—How am I to get in?’ she repeated, aloud.\n",
    "‘I shall sit here,’ the Footman remarked, ‘till tomorrow—’\n",
    "At this moment the door of the house opened, and a large plate came skimming out, straight at the Footman’s head: it just grazed his nose, and broke to pieces against one of the trees behind him.'''\n",
    "\n",
    "\n",
    "words = paragraph_text.split()\n",
    "\n",
    "word_frequencies = counts(words)\n",
    "\n",
    "sorted_word_frequencies = sorted(word_frequencies.items(), key=lambda item: item[1], reverse=True)\n",
    "\n",
    "for word, frequency in sorted_word_frequencies:\n",
    "    print(f\"{word}: {frequency}\")"
   ]
  },
  {
   "cell_type": "markdown",
   "metadata": {},
   "source": [
    "## 4. Read in a file using `open()` and iterated through the file line-by-line write each line from the file to a new file in a  `title()`-ized. Create your own file for input\n",
    "\n",
    "`This is the first line` ->  `This Is The First Line`\n",
    "\n",
    "Hint: There's a function to do this"
   ]
  },
  {
   "cell_type": "code",
   "execution_count": 23,
   "metadata": {},
   "outputs": [
    {
     "data": {
      "text/plain": [
       "['This Is The First Line', 'This Is The First Line']"
      ]
     },
     "execution_count": 23,
     "metadata": {},
     "output_type": "execute_result"
    }
   ],
   "source": [
    "with open('hw_data.csv', 'r') as infile, open('output.txt', 'w') as outfile:\n",
    "\n",
    "    for line in infile:\n",
    "        title_cased_line = line.title()\n",
    "        outfile.write(title_cased_line)\n",
    "\n",
    "input_content = [\n",
    "    \"This is the first line\",\n",
    "    \"This is the first line\"\n",
    "]\n",
    "\n",
    "output_content = [line.title() for line in input_content]\n",
    "output_content\n"
   ]
  },
  {
   "cell_type": "markdown",
   "metadata": {},
   "source": [
    "# Numpy"
   ]
  },
  {
   "cell_type": "markdown",
   "metadata": {},
   "source": [
    "## 1. Given a list, find the average using a numpy function. "
   ]
  },
  {
   "cell_type": "code",
   "execution_count": 10,
   "metadata": {},
   "outputs": [
    {
     "name": "stdout",
     "output_type": "stream",
     "text": [
      "The average is: 3.375\n"
     ]
    }
   ],
   "source": [
    "simple_list = [1,2,1,4,3,2,5,9]\n",
    "\n",
    "average = np.mean(simple_list)\n",
    "\n",
    "print(\"The average is:\", average)"
   ]
  },
  {
   "cell_type": "markdown",
   "metadata": {},
   "source": [
    "## 2. Given two lists of Heights and Weights of individual, calculate the BMI of those individuals, without writing a `for-loop`"
   ]
  },
  {
   "cell_type": "code",
   "execution_count": 11,
   "metadata": {},
   "outputs": [
    {
     "name": "stdout",
     "output_type": "stream",
     "text": [
      "BMI of each individual: [29.06592681 27.73229978 30.73941662 24.16326531 26.33288875]\n"
     ]
    }
   ],
   "source": [
    "heights = [174, 173, 173, 175, 171]\n",
    "weights = [88, 83, 92, 74, 77]\n",
    "\n",
    "heights_array = np.array(heights)\n",
    "weights_array = np.array(weights)\n",
    "\n",
    "heights_in_meters = heights_array / 100\n",
    "\n",
    "bmi_array = weights_array / (heights_in_meters ** 2)\n",
    "\n",
    "print(\"BMI of each individual:\", bmi_array)"
   ]
  },
  {
   "cell_type": "markdown",
   "metadata": {},
   "source": [
    "## 3. Create an array of length 20 filled with random values (between 0 to 1) "
   ]
  },
  {
   "cell_type": "code",
   "execution_count": 12,
   "metadata": {},
   "outputs": [
    {
     "name": "stdout",
     "output_type": "stream",
     "text": [
      "Array of 20 random values between 0 and 1: [0.93697522 0.93344337 0.65231421 0.75804772 0.27666759 0.79655775\n",
      " 0.83124317 0.5515096  0.19964022 0.41631756 0.90105799 0.28025592\n",
      " 0.92837966 0.21950875 0.9185373  0.53139276 0.33129172 0.76010721\n",
      " 0.23242631 0.6475245 ]\n"
     ]
    }
   ],
   "source": [
    "random_array = np.random.random(20)\n",
    "\n",
    "print(\"Array of 20 random values between 0 and 1:\", random_array)"
   ]
  },
  {
   "cell_type": "markdown",
   "metadata": {},
   "source": [
    "## 4. Create an array with at least 1000 random numbers from normal distributions (normal). Then, plot a histogram of these values (`plt.hist`)."
   ]
  },
  {
   "cell_type": "code",
   "execution_count": 13,
   "metadata": {},
   "outputs": [
    {
     "data": {
      "image/png": "[encoded data removed]",
      "text/plain": [
       "<Figure size 640x480 with 1 Axes>"
      ]
     },
     "metadata": {},
     "output_type": "display_data"
    }
   ],
   "source": [
    "normal_values = np.random.normal(loc=0, scale=1, size=1000)\n",
    "\n",
    "plt.hist(normal_values, bins=30, edgecolor='black')\n",
    "plt.title('Histogram of 1000 Random Numbers from a Normal Distribution')\n",
    "plt.xlabel('Value')\n",
    "plt.ylabel('Frequency')\n",
    "plt.grid(True) \n",
    "\n",
    "plt.show()"
   ]
  },
  {
   "cell_type": "markdown",
   "metadata": {},
   "source": [
    "# Pandas"
   ]
  },
  {
   "cell_type": "markdown",
   "metadata": {},
   "source": [
    "## 1. Read in a CSV () and display all the columns and their respective data types "
   ]
  },
  {
   "cell_type": "code",
   "execution_count": 24,
   "metadata": {},
   "outputs": [
    {
     "name": "stdout",
     "output_type": "stream",
     "text": [
      "id         int64\n",
      "sex       object\n",
      "weight     int64\n",
      "height     int64\n",
      "dtype: object\n"
     ]
    }
   ],
   "source": [
    "df = pd.read_csv('hw_data.csv')\n",
    "\n",
    "print(df.dtypes)"
   ]
  },
  {
   "cell_type": "markdown",
   "metadata": {},
   "source": [
    "## 2. Find the average weight "
   ]
  },
  {
   "cell_type": "code",
   "execution_count": 25,
   "metadata": {},
   "outputs": [
    {
     "name": "stdout",
     "output_type": "stream",
     "text": [
      "The average weight is: 135.71428571428572\n"
     ]
    }
   ],
   "source": [
    "average_weight = df['weight'].mean()\n",
    "\n",
    "print(\"The average weight is:\", average_weight)"
   ]
  },
  {
   "cell_type": "markdown",
   "metadata": {},
   "source": [
    "## 3. Find the Value Counts on column `sex` "
   ]
  },
  {
   "cell_type": "code",
   "execution_count": 26,
   "metadata": {},
   "outputs": [
    {
     "name": "stdout",
     "output_type": "stream",
     "text": [
      "Counts of each sex category:\n",
      "sex\n",
      "M    3\n",
      "F    3\n",
      "O    1\n",
      "Name: count, dtype: int64\n"
     ]
    }
   ],
   "source": [
    "sex_counts = df['sex'].value_counts()\n",
    "\n",
    "print(\"Counts of each sex category:\")\n",
    "print(sex_counts)"
   ]
  },
  {
   "cell_type": "markdown",
   "metadata": {},
   "source": [
    "## 4. Plot Height vs. Weight "
   ]
  },
  {
   "cell_type": "code",
   "execution_count": 27,
   "metadata": {},
   "outputs": [
    {
     "data": {
      "image/png": "[encoded data removed]",
      "text/plain": [
       "<Figure size 1000x600 with 1 Axes>"
      ]
     },
     "metadata": {},
     "output_type": "display_data"
    }
   ],
   "source": [
    "plt.figure(figsize=(10, 6)) \n",
    "plt.scatter(df['height'], df['weight'], color='blue', alpha=0.5)  \n",
    "plt.title('Height vs. Weight Scatter Plot') \n",
    "plt.xlabel('Height (cm)') \n",
    "plt.ylabel('Weight (kg)') \n",
    "plt.grid(True)  \n",
    "plt.show()  "
   ]
  },
  {
   "cell_type": "markdown",
   "metadata": {},
   "source": [
    "## 5. Calculate BMI and save as a new column"
   ]
  },
  {
   "cell_type": "code",
   "execution_count": 18,
   "metadata": {},
   "outputs": [
    {
     "name": "stdout",
     "output_type": "stream",
     "text": [
      "   id sex  weight  height         bmi\n",
      "0   1   M     190      77  320.458762\n",
      "1   2   F     120      70  244.897959\n",
      "2   3   F     110      68  237.889273\n",
      "3   4   M     150      72  289.351852\n",
      "4   5   O     120      66  275.482094\n"
     ]
    }
   ],
   "source": [
    "df['bmi'] = df['weight'] / ((df['height'] / 100) ** 2)\n",
    "\n",
    "print(df.head())\n",
    "\n",
    "df.to_csv('updated_hw_data.csv', index=False)"
   ]
  },
  {
   "cell_type": "markdown",
   "metadata": {},
   "source": [
    "## 6. Save sheet as a new CSV file `hw_dataB.csv`"
   ]
  },
  {
   "cell_type": "code",
   "execution_count": 19,
   "metadata": {},
   "outputs": [
    {
     "name": "stdout",
     "output_type": "stream",
     "text": [
      "DataFrame with BMI has been saved as 'hw_dataB.csv'\n"
     ]
    }
   ],
   "source": [
    "df.to_csv('hw_dataB.csv', index=False)\n",
    "\n",
    "print(\"DataFrame with BMI has been saved as 'hw_dataB.csv'\")"
   ]
  },
  {
   "cell_type": "markdown",
   "metadata": {},
   "source": [
    "## Run the following (Mac)"
   ]
  },
  {
   "cell_type": "code",
   "execution_count": 20,
   "metadata": {},
   "outputs": [
    {
     "name": "stdout",
     "output_type": "stream",
     "text": [
      "id,sex,weight,height,bmi\r\n",
      "1,M,190,77,320.4587620172036\r\n",
      "2,F,120,70,244.8979591836735\r\n",
      "3,F,110,68,237.88927335640133\r\n",
      "4,M,150,72,289.35185185185185\r\n",
      "5,O,120,66,275.4820936639118\r\n",
      "6,M,120,60,333.33333333333337\r\n",
      "7,F,140,70,285.7142857142858\r\n"
     ]
    }
   ],
   "source": [
    "!cat hw_dataB.csv"
   ]
  },
  {
   "cell_type": "markdown",
   "metadata": {},
   "source": [
    "## Run the following (Windows) "
   ]
  },
  {
   "cell_type": "code",
   "execution_count": null,
   "metadata": {},
   "outputs": [],
   "source": [
    "!type hw_dataB.csv"
   ]
  }
 ],
 "metadata": {
  "kernelspec": {
   "display_name": "Python 3 (ipykernel)",
   "language": "python",
   "name": "python3"
  },
  "language_info": {
   "codemirror_mode": {
    "name": "ipython",
    "version": 3
   },
   "file_extension": ".py",
   "mimetype": "text/x-python",
   "name": "python",
   "nbconvert_exporter": "python",
   "pygments_lexer": "ipython3",
   "version": "3.11.5"
  }
 },
 "nbformat": 4,
 "nbformat_minor": 1
}
